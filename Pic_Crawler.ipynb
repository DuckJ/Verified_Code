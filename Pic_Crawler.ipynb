{
 "cells": [
  {
   "cell_type": "code",
   "execution_count": null,
   "metadata": {
    "collapsed": false
   },
   "outputs": [],
   "source": [
    "import requests as rs\n",
    "from PIL import Image\n",
    "import os\n",
    "import psutil\n",
    "\n",
    "\n",
    "\n",
    "def Clear_file(path):\n",
    "    for i in os.listdir(path):\n",
    "        os.remove(path + \"/\" + i)\n",
    "\n",
    "\n",
    "def Crawler(save_address, num):\n",
    "    order = 0\n",
    "    for i in range(0, num):\n",
    "        order += 1\n",
    "        print(\"picture \" + str(order))\n",
    "        get_url = \"https://www.c5game.com/api/login/captcha.html?refresh=1\"\n",
    "        pic_url = \"https://www.c5game.com\" + rs.get(get_url).json()[\"url\"]\n",
    "        pic = rs.get(pic_url).content\n",
    "        address = save_address + '/' + str(i) + '.png'\n",
    "        file = open(address, 'wb')\n",
    "        file.write(pic)\n",
    "        file.close()\n",
    "\n",
    "\n",
    "def Verified(save_address):\n",
    "    num = 0\n",
    "    list = os.listdir(save_address)\n",
    "    for i in list:\n",
    "        num = num + 1 \n",
    "        address = save_address + '/' + i\n",
    "        pic = Image.open(address)\n",
    "        pic.show()\n",
    "        name = input(\"No.\" + str(num) + \" Input:\")\n",
    "        pic.close()\n",
    "        for proc in psutil.process_iter():\n",
    "            if proc.name() == \"Microsoft.Photos.exe\":\n",
    "                proc.kill()\n",
    "        if name:\n",
    "            os.renames(address, save_address + \"/\" + name + \".png\")\n",
    "\n",
    "\n",
    "if __name__ == \"__main__\":\n",
    "    path = \"/home/nfd/tensorflow/project/Valified_Code_Classify\"\n",
    "    Clear_file(path)\n",
    "    Crawler(path, 10)\n",
    "    Verified(path)"
   ]
  },
  {
   "cell_type": "code",
   "execution_count": null,
   "metadata": {
    "collapsed": true
   },
   "outputs": [],
   "source": []
  },
  {
   "cell_type": "code",
   "execution_count": null,
   "metadata": {
    "collapsed": true,
    "slideshow": {
     "slide_type": "-"
    }
   },
   "outputs": [],
   "source": []
  }
 ],
 "metadata": {
  "kernelspec": {
   "display_name": "Python 3",
   "language": "python",
   "name": "python3"
  },
  "language_info": {
   "codemirror_mode": {
    "name": "ipython",
    "version": 3
   },
   "file_extension": ".py",
   "mimetype": "text/x-python",
   "name": "python",
   "nbconvert_exporter": "python",
   "pygments_lexer": "ipython3",
   "version": "3.6.0"
  }
 },
 "nbformat": 4,
 "nbformat_minor": 2
}
