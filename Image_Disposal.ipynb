{
 "cells": [
  {
   "cell_type": "code",
   "execution_count": null,
   "metadata": {
    "collapsed": true
   },
   "outputs": [],
   "source": [
    "import sys\n",
    "import os\n",
    "import Crop\n",
    "import OSTU\n",
    "sys.path.append(\"/home/nfd/tensorflow/project/Crop.py\")\n",
    "sys.path.append(\"/home/nfd/tensorflow/project/OSTU.py\")\n",
    "\n",
    "\n",
    "\n",
    "read_path = \"/home/nfd/tensorflow/project/Valified_Code_Classify\"\n",
    "save_path = \"/home/nfd/tensorflow/project/temp\"\n",
    "list = os.listdir(read_path)\n",
    "num = 0\n",
    "for i in list:\n",
    "    print(i)\n",
    "    num += 1\n",
    "    print(\"picture \" + str(num))\n",
    "    its_path = read_path + \"/\" + i\n",
    "    pic = OSTU.OSTU(its_path)\n",
    "    Crop.Crop(pic, save_path, i)"
   ]
  },
  {
   "cell_type": "code",
   "execution_count": null,
   "metadata": {
    "collapsed": true
   },
   "outputs": [],
   "source": []
  }
 ],
 "metadata": {
  "kernelspec": {
   "display_name": "Python 3",
   "language": "python",
   "name": "python3"
  },
  "language_info": {
   "codemirror_mode": {
    "name": "ipython",
    "version": 3
   },
   "file_extension": ".py",
   "mimetype": "text/x-python",
   "name": "python",
   "nbconvert_exporter": "python",
   "pygments_lexer": "ipython3",
   "version": "3.6.0"
  }
 },
 "nbformat": 4,
 "nbformat_minor": 2
}
