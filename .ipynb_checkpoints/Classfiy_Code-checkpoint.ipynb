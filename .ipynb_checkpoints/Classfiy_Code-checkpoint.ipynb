{
 "cells": [
  {
   "cell_type": "code",
   "execution_count": null,
   "metadata": {
    "collapsed": false
   },
   "outputs": [
    {
     "name": "stdout",
     "output_type": "stream",
     "text": [
      "INFO:tensorflow:Restoring parameters from my_net/VerfiedCode_net.ckpt\n"
     ]
    }
   ],
   "source": [
    "#!/usr/bin/python\n",
    "#coding:utf-8\n",
    "import tensorflow as tf\n",
    "import Get_Database\n",
    "import numpy as np\n",
    "\n",
    "\n",
    "def Classified(path):\n",
    "    data = Get_Database.base(path, False)\n",
    "    tf_x = tf.placeholder(tf.float32, [None, 40*40]) / 255.\n",
    "    image = tf.reshape(tf_x, [-1, 40, 40, 1])              # (batch, height, width, channel)\n",
    "#     tf_y = tf.placeholder(tf.int32, [None, 26])            # input y\n",
    "    rate = tf.placeholder(tf.float32)\n",
    "    \n",
    "    conv1 = tf.layers.conv2d(   # shape (40, 40, 1)\n",
    "    inputs=image,\n",
    "    filters=16,\n",
    "    kernel_size=5,\n",
    "    strides=1,\n",
    "    padding='same',\n",
    "    activation=tf.nn.relu\n",
    "    )           # -> (40, 40, 16)\n",
    "\n",
    "    pool1 = tf.layers.max_pooling2d(\n",
    "        conv1,\n",
    "        pool_size=2,\n",
    "        strides=2,\n",
    "    )           # -> (20, 20, 16)\n",
    "\n",
    "    conv2 = tf.layers.conv2d(pool1, 32, 5, 1, 'same', activation=tf.nn.relu)    # -> (20, 20, 32)  \n",
    "    pool2 = tf.layers.max_pooling2d(conv2, 2, 2)    # -> (10, 10, 32)\n",
    "    conv3 = tf.layers.conv2d(pool2, 64, 5, 1, 'same', activation=tf.nn.relu)    # -> (10, 10, 64)\n",
    "    pool3 = tf.layers.max_pooling2d(conv3, 2, 2)    # -> (5, 5, 64)\n",
    "    flat = tf.reshape(pool3, [-1, 5*5*64])          # -> (5*5*32, )\n",
    "    output = tf.layers.dense(flat, 1024) # output layer \n",
    "    output_drop = tf.layers.dropout(output, rate)\n",
    "    prediction = tf.layers.dense(output_drop,26)\n",
    "    \n",
    "    \n",
    "    sess = tf.Session()\n",
    "    saver = tf.train.Saver()\n",
    "    saver.restore(sess, \"my_net/VerfiedCode_net.ckpt\")\n",
    "    print(\"Model restored.\")\n",
    "    result = sess.run(prediction, feed_dict={tf_x: data, rate: 1.0})\n",
    "    code = \"\"\n",
    "    for i in result:\n",
    "        temp = list(i)\n",
    "        code += chr(temp.index(max(temp)) + 97)\n",
    "    return code\n",
    "\n",
    "\n",
    "path = \"/home/nfd/tensorflow/project/Valified_Code_Classify/Dataset/test_Classify\"\n",
    "print(Classified(path))"
   ]
  },
  {
   "cell_type": "code",
   "execution_count": null,
   "metadata": {
    "collapsed": true
   },
   "outputs": [],
   "source": []
  }
 ],
 "metadata": {
  "kernelspec": {
   "display_name": "Python 3",
   "language": "python",
   "name": "python3"
  },
  "language_info": {
   "codemirror_mode": {
    "name": "ipython",
    "version": 3
   },
   "file_extension": ".py",
   "mimetype": "text/x-python",
   "name": "python",
   "nbconvert_exporter": "python",
   "pygments_lexer": "ipython3",
   "version": "3.6.0"
  }
 },
 "nbformat": 4,
 "nbformat_minor": 2
}
